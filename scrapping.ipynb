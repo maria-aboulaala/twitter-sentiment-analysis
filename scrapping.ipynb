{
 "cells": [
  {
   "cell_type": "code",
   "execution_count": 1,
   "id": "112f471b-3c6a-4c9d-a390-141f8116e884",
   "metadata": {},
   "outputs": [],
   "source": [
    "import twint\n"
   ]
  },
  {
   "cell_type": "code",
   "execution_count": 2,
   "id": "c6e89846-4482-46c8-9cf9-45e56d6a0885",
   "metadata": {},
   "outputs": [],
   "source": [
    "import nest_asyncio\n",
    "nest_asyncio.apply()"
   ]
  },
  {
   "cell_type": "code",
   "execution_count": 39,
   "id": "9cecea2d-825c-4d50-9b8a-fca2aa241727",
   "metadata": {},
   "outputs": [],
   "source": [
    "# Configure\n",
    "c = twint.Config()\n",
    "#c.Username = \"bitcoin\"\n",
    "c.Search = \"bitcoin\"\n",
    "c.Since = \"2022-10-1\"\n",
    "c.Lang = \"en\"\n",
    "#c.Near = \"USA\"\n",
    "#c.Translate = True\n",
    "c.Limit = 1\n",
    "c.Store_csv = True\n",
    "c.Output = \"./ twitter_data.csv\""
   ]
  },
  {
   "cell_type": "code",
   "execution_count": 40,
   "id": "fdb3c907-4e38-4ace-bf8b-5c6480a94984",
   "metadata": {},
   "outputs": [
    {
     "name": "stdout",
     "output_type": "stream",
     "text": [
      "1580874729707081728 2022-10-14 11:54:41 +0100 <north_bitcoin> @disclosetv These fckn woke ppl are everywhere now. Criminals\n",
      "1580874718663827457 2022-10-14 11:54:38 +0100 <InvestorTrip> Here are some tips I used to explain #Bitcoin to my baby boomer parents   https://t.co/p6KBBdTUuK\n",
      "1580874718135353344 2022-10-14 11:54:38 +0100 <cryptobcncat> ¿Cuál es tu sentimiento para #Bitcoin￼, ￼#Ethereum y el resto de mercado cripto para las próximas semanas? 😼  BEARISH           BULLISH 👇                            👇\n",
      "1580874707603427328 2022-10-14 11:54:36 +0100 <BruteSilverback> 🟡LATEST INSIDER PROTOCOL TRADING BOT RESULTS OPTION 1 : -3.09 % OPTION 2 : +1.12% OPTION 3 : -1.02% OPTION X : +9.44% @INSIDERPROTOCOL #bitcoin #crypto #gemalert #ICO #tradingbot #HFT #DeFi #cryptonews #dailyresults #eth #airdrops #AirdropCrypto #DAO #MimbleWimble  https://t.co/0PBNYz6OGF\n",
      "1580874705925705731 2022-10-14 11:54:35 +0100 <martin53299406> 2/2 Die Dokumentation zeigt den kometenhaften Aufstieg von Dadvan Yousuf @Cryptonnis vom Flüchtling zum Bitcoin Millionär. Absolut sehenswert.  @Dohrnii_io @Cryptonnis #Dohrnii\n",
      "1580874704239218688 2022-10-14 11:54:35 +0100 <MightyDylanK> Be careful what you wish for anon, choose wisely 🫡🍄 #Bitcoin  https://t.co/GDdqXcBNKL\n",
      "1580874697411289093 2022-10-14 11:54:33 +0100 <ob_hodl> @real_or_random scammers trying to sound smart to steal VCs money\n",
      "1580874687030382592 2022-10-14 11:54:31 +0100 <BTCminnow> Not yet #bitcoin  JKS 🐟🐟🐟\n",
      "1580874677152804869 2022-10-14 11:54:28 +0100 <MikEliseev> Торговый эксперт: Биткоин может упасть до $3,500, если будет реализован \"худший сценарий\"  https://t.co/ulVATa5tgL #Bitcoin  https://t.co/EC5wPFWaKJ\n",
      "1580874671448129536 2022-10-14 11:54:27 +0100 <aaa333aaa16> @us_stock_arabic مصخرة\n",
      "1580874671158808576 2022-10-14 11:54:27 +0100 <bitmynt> Fortalde om kampen min mot norske bankar til ein kunstnar på Bitcoin Amsterdam. Han ga meg denne!  https://t.co/4wzWCevc6E\n",
      "1580874669598511104 2022-10-14 11:54:27 +0100 <Cc_999b> When it comes to #Bitcoin, bear whales always get slayed\n",
      "1580874631325491200 2022-10-14 11:54:17 +0100 <satoshis_dog> Chancellor On The Brink  #bitcoin #bitcoinwhitepaper  https://t.co/sIxqTKITac\n",
      "1580874630008479744 2022-10-14 11:54:17 +0100 <pumpcoininfo> #BTSUSDT % 1.79 increase in last 10 seconds price: 0.01025000 #BTS #Bitcoin Bitcoin #BTC  https://t.co/mK6JDldrF9\n",
      "1580874628905324544 2022-10-14 11:54:17 +0100 <CryptoSavedMe_> Bitcoin ‘bear trap’ sees BTC price near $20K as daily gains top 9% -  https://t.co/6ZuFVYWh1v                                          Over $320 million in liquidations accompanies a gruelling 24 hours  https://t.co/wHAVit0m09\n",
      "1580874627017953280 2022-10-14 11:54:16 +0100 <urocknetwork> The latest U-Rock™ - The New Media Magazine!  https://t.co/UcWeWYuAn1 Thanks to @fortunatefall03 @dumbwire @worldbmf #crypto #bitcoin\n"
     ]
    }
   ],
   "source": [
    "twint.run.Search(c)"
   ]
  },
  {
   "cell_type": "code",
   "execution_count": null,
   "id": "a875c6a2-7ff1-4f35-970a-020cb20dfebc",
   "metadata": {},
   "outputs": [],
   "source": []
  },
  {
   "cell_type": "code",
   "execution_count": null,
   "id": "a407b8e8-4cec-45a7-8d77-d327f2d351bf",
   "metadata": {},
   "outputs": [],
   "source": []
  }
 ],
 "metadata": {
  "kernelspec": {
   "display_name": "Python 3 (ipykernel)",
   "language": "python",
   "name": "python3"
  },
  "language_info": {
   "codemirror_mode": {
    "name": "ipython",
    "version": 3
   },
   "file_extension": ".py",
   "mimetype": "text/x-python",
   "name": "python",
   "nbconvert_exporter": "python",
   "pygments_lexer": "ipython3",
   "version": "3.9.7"
  }
 },
 "nbformat": 4,
 "nbformat_minor": 5
}
